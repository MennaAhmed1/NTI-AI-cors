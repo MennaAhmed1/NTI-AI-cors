{
 "cells": [
  {
   "cell_type": "code",
   "execution_count": 9,
   "id": "837b797e",
   "metadata": {},
   "outputs": [
    {
     "name": "stdout",
     "output_type": "stream",
     "text": [
      "20\n"
     ]
    }
   ],
   "source": [
    "tupleA=(\"orange\",[10,20,30],[5,15,25])\n",
    "x=tupleA[1]\n",
    "y=list(x)\n",
    "print(tupleA[1][1])\n"
   ]
  },
  {
   "cell_type": "code",
   "execution_count": 10,
   "id": "f7797b3d",
   "metadata": {},
   "outputs": [
    {
     "name": "stdout",
     "output_type": "stream",
     "text": [
      "(50,)\n"
     ]
    }
   ],
   "source": [
    "tuplee=tuple([50])\n",
    "print(tuplee)"
   ]
  },
  {
   "cell_type": "code",
   "execution_count": 17,
   "id": "6e63aa0f",
   "metadata": {},
   "outputs": [
    {
     "name": "stdout",
     "output_type": "stream",
     "text": [
      "(50,)\n"
     ]
    }
   ],
   "source": [
    "tuplee=tuple([50] )\n",
    "print (tuplee)"
   ]
  },
  {
   "cell_type": "code",
   "execution_count": 18,
   "id": "6785731a",
   "metadata": {},
   "outputs": [
    {
     "name": "stdout",
     "output_type": "stream",
     "text": [
      "10\n",
      "20\n",
      "30\n",
      "40\n"
     ]
    }
   ],
   "source": [
    "tuple1=(10,20,30,40)\n",
    "m,x,y,z =tuple1\n",
    "print(m)\n",
    "print(x)\n",
    "print(y)\n",
    "print(z)"
   ]
  },
  {
   "cell_type": "code",
   "execution_count": 21,
   "id": "49fae515",
   "metadata": {},
   "outputs": [
    {
     "name": "stdout",
     "output_type": "stream",
     "text": [
      "10\n",
      "20\n",
      "30\n",
      "40\n"
     ]
    }
   ],
   "source": [
    "tuple1=(10,20,30,40)\n",
    "for i in tuple1:\n",
    "     print(i)"
   ]
  },
  {
   "cell_type": "code",
   "execution_count": 30,
   "id": "0141ca0f",
   "metadata": {},
   "outputs": [
    {
     "name": "stdout",
     "output_type": "stream",
     "text": [
      "the type of the date now <class 'datetime.datetime'>\n",
      "the date is 2022-08-25 04:00:00\n"
     ]
    }
   ],
   "source": [
    "from datetime import datetime\n",
    "dt_string ='25 feb 2022 4:8'\n",
    "dt_obj = datetime.strptime(dt_string,'%d %b %Y %H:%m')\n",
    "print (\"the type of the date now\" ,type(dt_obj))\n",
    "print (\"the date is\",dt_obj)"
   ]
  },
  {
   "cell_type": "code",
   "execution_count": null,
   "id": "1a16b768",
   "metadata": {},
   "outputs": [],
   "source": []
  },
  {
   "cell_type": "code",
   "execution_count": null,
   "id": "391d086c",
   "metadata": {},
   "outputs": [],
   "source": []
  },
  {
   "cell_type": "code",
   "execution_count": null,
   "id": "1998ab4d",
   "metadata": {},
   "outputs": [],
   "source": []
  },
  {
   "cell_type": "code",
   "execution_count": null,
   "id": "3d40825b",
   "metadata": {},
   "outputs": [],
   "source": []
  }
 ],
 "metadata": {
  "kernelspec": {
   "display_name": "Python 3",
   "language": "python",
   "name": "python3"
  },
  "language_info": {
   "codemirror_mode": {
    "name": "ipython",
    "version": 3
   },
   "file_extension": ".py",
   "mimetype": "text/x-python",
   "name": "python",
   "nbconvert_exporter": "python",
   "pygments_lexer": "ipython3",
   "version": "3.8.8"
  }
 },
 "nbformat": 4,
 "nbformat_minor": 5
}
